{
 "cells": [
  {
   "cell_type": "markdown",
   "id": "60ba262d",
   "metadata": {},
   "source": [
    "This code is used for controlling the KEITHLEY 2182A Nanovoltmeter"
   ]
  },
  {
   "cell_type": "code",
   "execution_count": null,
   "id": "8ab2bac1",
   "metadata": {},
   "outputs": [],
   "source": [
    "import visa\n",
    "\n",
    "class KeithleyController:\n",
    "    def __init__(self, gpib_address):\n",
    "        rm = visa.ResourceManager()\n",
    "        self.keithley = rm.open_resource(gpib_address)\n",
    "        \n",
    "    def reset(self):\n",
    "        self.keithley.write(\"*rst; status:preset; *cls\")\n",
    "        \n",
    "    def set_measurement_interval(self, interval_in_ms):\n",
    "        self.keithley.write(f\"trigger:delay {interval_in_ms / 1000}\")\n",
    "        \n",
    "    def set_number_of_readings(self, number_of_readings):\n",
    "        self.keithley.write(f\"sample:count {number_of_readings}\")\n",
    "        self.keithley.write(\"trace:points %d\" % number_of_readings)\n",
    "        \n",
    "    def enable_measurement(self):\n",
    "        self.keithley.write(\"status:measurement:enable 512; *sre 1\")\n",
    "        \n",
    "    def set_trigger_source(self, source):\n",
    "        self.keithley.write(f\"trigger:source {source}\")\n",
    "        \n",
    "    def set_trace_feed(self, feed):\n",
    "        self.keithley.write(f\"trace:feed {feed}; feed:control next\")\n",
    "        \n",
    "    def initiate_measurement(self):\n",
    "        self.keithley.write(\"initiate\")\n",
    "        \n",
    "    def assert_trigger(self):\n",
    "        self.keithley.assert_trigger()\n",
    "        \n",
    "    def wait_for_srq(self):\n",
    "        self.keithley.wait_for_srq()\n"
   ]
  },
  {
   "cell_type": "code",
   "execution_count": null,
   "id": "7f5ba235",
   "metadata": {},
   "outputs": [],
   "source": [
    "keithley = KeithleyController(\"GPIB::12\")\n",
    "keithley.reset()\n",
    "keithley.set_measurement_interval(500)\n",
    "keithley.set_number_of_readings(10)\n",
    "keithley.enable_measurement()\n",
    "keithley.set_trigger_source(\"bus\")\n",
    "keithley.set_trace_feed(\"sense1\")\n",
    "keithley.initiate_measurement()\n",
    "keithley.assert_trigger()\n",
    "keithley.wait_for_srq()\n"
   ]
  }
 ],
 "metadata": {
  "kernelspec": {
   "display_name": "Python 3 (ipykernel)",
   "language": "python",
   "name": "python3"
  },
  "language_info": {
   "codemirror_mode": {
    "name": "ipython",
    "version": 3
   },
   "file_extension": ".py",
   "mimetype": "text/x-python",
   "name": "python",
   "nbconvert_exporter": "python",
   "pygments_lexer": "ipython3",
   "version": "3.9.7"
  }
 },
 "nbformat": 4,
 "nbformat_minor": 5
}
