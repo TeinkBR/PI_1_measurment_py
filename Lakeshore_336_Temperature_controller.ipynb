{
 "cells": [
  {
   "cell_type": "code",
   "execution_count": 1,
   "id": "cf0622c2",
   "metadata": {},
   "outputs": [
    {
     "name": "stdout",
     "output_type": "stream",
     "text": [
      "Requirement already satisfied: pymeasure in /Users/jingyili/opt/anaconda3/lib/python3.9/site-packages (0.11.1)\n",
      "Requirement already satisfied: pyserial>=2.7 in /Users/jingyili/opt/anaconda3/lib/python3.9/site-packages (from pymeasure) (3.5)\n",
      "Requirement already satisfied: pyvisa>=1.8 in /Users/jingyili/opt/anaconda3/lib/python3.9/site-packages (from pymeasure) (1.13.0)\n",
      "Requirement already satisfied: numpy>=1.6.1 in /Users/jingyili/opt/anaconda3/lib/python3.9/site-packages (from pymeasure) (1.23.5)\n",
      "Requirement already satisfied: pint in /Users/jingyili/opt/anaconda3/lib/python3.9/site-packages (from pymeasure) (0.20.1)\n",
      "Requirement already satisfied: pyqtgraph>=0.9.10 in /Users/jingyili/opt/anaconda3/lib/python3.9/site-packages (from pymeasure) (0.13.2)\n",
      "Requirement already satisfied: pandas>=0.14 in /Users/jingyili/opt/anaconda3/lib/python3.9/site-packages (from pymeasure) (1.3.4)\n",
      "Requirement already satisfied: python-dateutil>=2.7.3 in /Users/jingyili/opt/anaconda3/lib/python3.9/site-packages (from pandas>=0.14->pymeasure) (2.8.2)\n",
      "Requirement already satisfied: pytz>=2017.3 in /Users/jingyili/opt/anaconda3/lib/python3.9/site-packages (from pandas>=0.14->pymeasure) (2021.3)\n",
      "Requirement already satisfied: six>=1.5 in /Users/jingyili/opt/anaconda3/lib/python3.9/site-packages (from python-dateutil>=2.7.3->pandas>=0.14->pymeasure) (1.16.0)\n",
      "Requirement already satisfied: typing-extensions in /Users/jingyili/opt/anaconda3/lib/python3.9/site-packages (from pyvisa>=1.8->pymeasure) (4.4.0)\n"
     ]
    }
   ],
   "source": [
    "!pip install pymeasure"
   ]
  },
  {
   "cell_type": "code",
   "execution_count": 4,
   "id": "f11c2413",
   "metadata": {},
   "outputs": [
    {
     "name": "stdout",
     "output_type": "stream",
     "text": [
      "Requirement already satisfied: pymeasure in /Users/jingyili/opt/anaconda3/lib/python3.9/site-packages (0.11.1)\n",
      "Requirement already satisfied: pandas>=0.14 in /Users/jingyili/opt/anaconda3/lib/python3.9/site-packages (from pymeasure) (1.3.4)\n",
      "Requirement already satisfied: pint in /Users/jingyili/opt/anaconda3/lib/python3.9/site-packages (from pymeasure) (0.20.1)\n",
      "Requirement already satisfied: pyserial>=2.7 in /Users/jingyili/opt/anaconda3/lib/python3.9/site-packages (from pymeasure) (3.5)\n",
      "Requirement already satisfied: pyqtgraph>=0.9.10 in /Users/jingyili/opt/anaconda3/lib/python3.9/site-packages (from pymeasure) (0.13.2)\n",
      "Requirement already satisfied: pyvisa>=1.8 in /Users/jingyili/opt/anaconda3/lib/python3.9/site-packages (from pymeasure) (1.13.0)\n",
      "Requirement already satisfied: numpy>=1.6.1 in /Users/jingyili/opt/anaconda3/lib/python3.9/site-packages (from pymeasure) (1.23.5)\n",
      "Requirement already satisfied: python-dateutil>=2.7.3 in /Users/jingyili/opt/anaconda3/lib/python3.9/site-packages (from pandas>=0.14->pymeasure) (2.8.2)\n",
      "Requirement already satisfied: pytz>=2017.3 in /Users/jingyili/opt/anaconda3/lib/python3.9/site-packages (from pandas>=0.14->pymeasure) (2021.3)\n",
      "Requirement already satisfied: six>=1.5 in /Users/jingyili/opt/anaconda3/lib/python3.9/site-packages (from python-dateutil>=2.7.3->pandas>=0.14->pymeasure) (1.16.0)\n",
      "Requirement already satisfied: typing-extensions in /Users/jingyili/opt/anaconda3/lib/python3.9/site-packages (from pyvisa>=1.8->pymeasure) (4.4.0)\n"
     ]
    }
   ],
   "source": [
    "!pip install --upgrade pymeasure"
   ]
  },
  {
   "cell_type": "code",
   "execution_count": 5,
   "id": "06b31f7d",
   "metadata": {},
   "outputs": [
    {
     "ename": "ImportError",
     "evalue": "cannot import name 'LakeShore336' from 'pymeasure.instruments.lakeshore' (/Users/jingyili/opt/anaconda3/lib/python3.9/site-packages/pymeasure/instruments/lakeshore/__init__.py)",
     "output_type": "error",
     "traceback": [
      "\u001b[0;31m---------------------------------------------------------------------------\u001b[0m",
      "\u001b[0;31mImportError\u001b[0m                               Traceback (most recent call last)",
      "\u001b[0;32m/var/folders/ch/8vzbvl9d4j1g2q_r2r4f383m0000gn/T/ipykernel_66192/3588442180.py\u001b[0m in \u001b[0;36m<module>\u001b[0;34m\u001b[0m\n\u001b[1;32m      1\u001b[0m \u001b[0;32mimport\u001b[0m \u001b[0mpymeasure\u001b[0m\u001b[0;34m\u001b[0m\u001b[0;34m\u001b[0m\u001b[0m\n\u001b[0;32m----> 2\u001b[0;31m \u001b[0;32mfrom\u001b[0m \u001b[0mpymeasure\u001b[0m\u001b[0;34m.\u001b[0m\u001b[0minstruments\u001b[0m\u001b[0;34m.\u001b[0m\u001b[0mlakeshore\u001b[0m \u001b[0;32mimport\u001b[0m \u001b[0mLakeShore336\u001b[0m\u001b[0;34m\u001b[0m\u001b[0;34m\u001b[0m\u001b[0m\n\u001b[0m\u001b[1;32m      3\u001b[0m \u001b[0;32mimport\u001b[0m \u001b[0mpylab\u001b[0m\u001b[0;34m\u001b[0m\u001b[0;34m\u001b[0m\u001b[0m\n\u001b[1;32m      4\u001b[0m \u001b[0;34m\u001b[0m\u001b[0m\n\u001b[1;32m      5\u001b[0m \u001b[0;32mclass\u001b[0m \u001b[0mLakeshoreController\u001b[0m\u001b[0;34m:\u001b[0m\u001b[0;34m\u001b[0m\u001b[0;34m\u001b[0m\u001b[0m\n",
      "\u001b[0;31mImportError\u001b[0m: cannot import name 'LakeShore336' from 'pymeasure.instruments.lakeshore' (/Users/jingyili/opt/anaconda3/lib/python3.9/site-packages/pymeasure/instruments/lakeshore/__init__.py)"
     ]
    }
   ],
   "source": [
    "import pymeasure\n",
    "from pymeasure.instruments.lakeshore import LakeShore336\n",
    "import pylab\n",
    "\n",
    "class LakeshoreController:\n",
    "    def __init__(self, gpib_address):\n",
    "        self.controller = LakeShore336(gpib_address)\n",
    "        \n",
    "    def set_setpoint(self, loop_number, setpoint):\n",
    "        getattr(self.controller, f\"loop{loop_number}\").setpoint = setpoint\n",
    "        \n",
    "    def set_heater_range(self, loop_number, heater_range):\n",
    "        getattr(self.controller, f\"loop{loop_number}\").heater_range = heater_range\n",
    "        \n",
    "    def wait_for_temperature(self, sensor_letter):\n",
    "        getattr(self.controller, f\"input_{sensor_letter}\").wait_for_temperature()\n",
    "        \n",
    "    def get_temperature(self, sensor_letter):\n",
    "        return getattr(self.controller, f\"input_{sensor_letter}\").temperature\n",
    "        \n",
    "    def plot_temperature(self, sensor_letter):\n",
    "        data = []\n",
    "        for i in range(50):\n",
    "            data.append(self.get_temperature(sensor_letter))\n",
    "            pylab.plot(data)\n",
    "            pylab.xlabel('Time (s)')\n",
    "            pylab.ylabel('Temperature (K)')\n",
    "            pylab.title('Temperature Sensor {} vs. Time'.format(sensor_letter))\n",
    "            pylab.grid(True)\n",
    "            pylab.show()\n"
   ]
  },
  {
   "cell_type": "code",
   "execution_count": null,
   "id": "b6744a3a",
   "metadata": {},
   "outputs": [],
   "source": [
    "controller = LakeshoreController(\"GPIB::1\")\n",
    "\n",
    "controller.set_setpoint(1, 50)\n",
    "controller.set_heater_range(1, 'low')\n",
    "controller.wait_for_temperature('A')\n",
    "temperature_A = controller.get_temperature('A')\n",
    "print(temperature_A)\n",
    "\n",
    "controller.plot_temperature('A')"
   ]
  }
 ],
 "metadata": {
  "kernelspec": {
   "display_name": "Python 3 (ipykernel)",
   "language": "python",
   "name": "python3"
  },
  "language_info": {
   "codemirror_mode": {
    "name": "ipython",
    "version": 3
   },
   "file_extension": ".py",
   "mimetype": "text/x-python",
   "name": "python",
   "nbconvert_exporter": "python",
   "pygments_lexer": "ipython3",
   "version": "3.9.7"
  }
 },
 "nbformat": 4,
 "nbformat_minor": 5
}
