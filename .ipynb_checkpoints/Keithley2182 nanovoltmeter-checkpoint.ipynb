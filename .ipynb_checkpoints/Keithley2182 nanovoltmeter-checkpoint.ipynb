{
 "cells": [
  {
   "cell_type": "markdown",
   "id": "60ba262d",
   "metadata": {},
   "source": [
    "This code is used for controlling the KEITHLEY 2182A Nanovoltmeter"
   ]
  },
  {
   "cell_type": "code",
   "execution_count": 1,
   "id": "8b810e01",
   "metadata": {},
   "outputs": [
    {
     "name": "stdout",
     "output_type": "stream",
     "text": [
      "Defaulting to user installation because normal site-packages is not writeable\n",
      "Collecting pyvisa\n",
      "  Downloading PyVISA-1.13.0-py3-none-any.whl (175 kB)\n",
      "\u001b[2K     \u001b[38;2;114;156;31m━━━━━━━━━━━━━━━━━━━━━━━━━━━━━━━━━━━━━━━\u001b[0m \u001b[32m175.7/175.7 KB\u001b[0m \u001b[31m2.4 MB/s\u001b[0m eta \u001b[36m0:00:00\u001b[0m MB/s\u001b[0m eta \u001b[36m0:00:01\u001b[0m\n",
      "\u001b[?25hRequirement already satisfied: typing-extensions in /tikhome/jli/.local/lib/python3.10/site-packages (from pyvisa) (4.5.0)\n",
      "Installing collected packages: pyvisa\n",
      "Successfully installed pyvisa-1.13.0\n"
     ]
    }
   ],
   "source": [
    "!pip install -U pyvisa"
   ]
  },
  {
   "cell_type": "code",
   "execution_count": 2,
   "id": "8ab2bac1",
   "metadata": {},
   "outputs": [
    {
     "ename": "ModuleNotFoundError",
     "evalue": "No module named 'visa'",
     "output_type": "error",
     "traceback": [
      "\u001b[0;31m---------------------------------------------------------------------------\u001b[0m",
      "\u001b[0;31mModuleNotFoundError\u001b[0m                       Traceback (most recent call last)",
      "\u001b[0;32m/tmp/ipykernel_864726/2656536215.py\u001b[0m in \u001b[0;36m<module>\u001b[0;34m\u001b[0m\n\u001b[0;32m----> 1\u001b[0;31m \u001b[0;32mimport\u001b[0m \u001b[0mvisa\u001b[0m\u001b[0;34m\u001b[0m\u001b[0;34m\u001b[0m\u001b[0m\n\u001b[0m\u001b[1;32m      2\u001b[0m \u001b[0;34m\u001b[0m\u001b[0m\n\u001b[1;32m      3\u001b[0m \u001b[0;32mclass\u001b[0m \u001b[0mKeithleyController\u001b[0m\u001b[0;34m:\u001b[0m\u001b[0;34m\u001b[0m\u001b[0;34m\u001b[0m\u001b[0m\n\u001b[1;32m      4\u001b[0m     \u001b[0;32mdef\u001b[0m \u001b[0m__init__\u001b[0m\u001b[0;34m(\u001b[0m\u001b[0mself\u001b[0m\u001b[0;34m,\u001b[0m \u001b[0mgpib_address\u001b[0m\u001b[0;34m)\u001b[0m\u001b[0;34m:\u001b[0m\u001b[0;34m\u001b[0m\u001b[0;34m\u001b[0m\u001b[0m\n\u001b[1;32m      5\u001b[0m         \u001b[0mrm\u001b[0m \u001b[0;34m=\u001b[0m \u001b[0mvisa\u001b[0m\u001b[0;34m.\u001b[0m\u001b[0mResourceManager\u001b[0m\u001b[0;34m(\u001b[0m\u001b[0;34m)\u001b[0m\u001b[0;34m\u001b[0m\u001b[0;34m\u001b[0m\u001b[0m\n",
      "\u001b[0;31mModuleNotFoundError\u001b[0m: No module named 'visa'"
     ]
    }
   ],
   "source": [
    "import visa\n",
    "\n",
    "class KeithleyController:\n",
    "    def __init__(self, gpib_address):\n",
    "        rm = visa.ResourceManager()\n",
    "        self.keithley = rm.open_resource(gpib_address)\n",
    "        \n",
    "    def reset(self):\n",
    "        self.keithley.write(\"*rst; status:preset; *cls\")\n",
    "        \n",
    "    def set_measurement_interval(self, interval_in_ms):\n",
    "        self.keithley.write(f\"trigger:delay {interval_in_ms / 1000}\")\n",
    "        \n",
    "    def set_number_of_readings(self, number_of_readings):\n",
    "        self.keithley.write(f\"sample:count {number_of_readings}\")\n",
    "        self.keithley.write(\"trace:points %d\" % number_of_readings)\n",
    "        \n",
    "    def enable_measurement(self):\n",
    "        self.keithley.write(\"status:measurement:enable 512; *sre 1\")\n",
    "        \n",
    "    def set_trigger_source(self, source):\n",
    "        self.keithley.write(f\"trigger:source {source}\")\n",
    "        \n",
    "    def set_trace_feed(self, feed):\n",
    "        self.keithley.write(f\"trace:feed {feed}; feed:control next\")\n",
    "        \n",
    "    def initiate_measurement(self):\n",
    "        self.keithley.write(\"initiate\")\n",
    "        \n",
    "    def assert_trigger(self):\n",
    "        self.keithley.assert_trigger()\n",
    "        \n",
    "    def wait_for_srq(self):\n",
    "        self.keithley.wait_for_srq()\n"
   ]
  },
  {
   "cell_type": "code",
   "execution_count": null,
   "id": "7f5ba235",
   "metadata": {},
   "outputs": [],
   "source": [
    "keithley = KeithleyController(\"GPIB::12\")\n",
    "keithley.reset()\n",
    "keithley.set_measurement_interval(500)\n",
    "keithley.set_number_of_readings(10)\n",
    "keithley.enable_measurement()\n",
    "keithley.set_trigger_source(\"bus\")\n",
    "keithley.set_trace_feed(\"sense1\")\n",
    "keithley.initiate_measurement()\n",
    "keithley.assert_trigger()\n",
    "keithley.wait_for_srq()\n"
   ]
  }
 ],
 "metadata": {
  "kernelspec": {
   "display_name": "Python 3 (ipykernel)",
   "language": "python",
   "name": "python3"
  },
  "language_info": {
   "codemirror_mode": {
    "name": "ipython",
    "version": 3
   },
   "file_extension": ".py",
   "mimetype": "text/x-python",
   "name": "python",
   "nbconvert_exporter": "python",
   "pygments_lexer": "ipython3",
   "version": "3.10.6"
  }
 },
 "nbformat": 4,
 "nbformat_minor": 5
}
