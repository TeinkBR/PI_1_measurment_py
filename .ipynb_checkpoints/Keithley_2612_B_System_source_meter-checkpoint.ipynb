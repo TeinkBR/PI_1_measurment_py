{
 "cells": [
  {
   "cell_type": "code",
   "execution_count": 2,
   "id": "b247eb15",
   "metadata": {},
   "outputs": [
    {
     "name": "stdout",
     "output_type": "stream",
     "text": [
      "Requirement already satisfied: pyvisa in /Users/jingyili/opt/anaconda3/lib/python3.9/site-packages (1.13.0)\n",
      "Requirement already satisfied: typing-extensions in /Users/jingyili/opt/anaconda3/lib/python3.9/site-packages (from pyvisa) (4.4.0)\n"
     ]
    }
   ],
   "source": [
    "!pip install -U pyvisa"
   ]
  },
  {
   "cell_type": "code",
   "execution_count": 4,
   "id": "3714fcf9",
   "metadata": {},
   "outputs": [
    {
     "name": "stdout",
     "output_type": "stream",
     "text": [
      "Requirement already satisfied: pyvisa in /Users/jingyili/opt/anaconda3/lib/python3.9/site-packages (1.13.0)\n",
      "Requirement already satisfied: typing-extensions in /Users/jingyili/opt/anaconda3/lib/python3.9/site-packages (from pyvisa) (4.4.0)\n",
      "Note: you may need to restart the kernel to use updated packages.\n"
     ]
    }
   ],
   "source": [
    "pip install pyvisa"
   ]
  },
  {
   "cell_type": "code",
   "execution_count": 6,
   "id": "28094457",
   "metadata": {},
   "outputs": [],
   "source": [
    "import pyvisa as visa\n",
    "\n",
    "class Keithley2612BController:\n",
    "    def __init__(self, ip_address):\n",
    "        self.keithley = visa.ResourceManager().open_resource(f\"TCPIP0::{ip_address}::5025::SOCKET\")\n",
    "        \n",
    "    def reset(self):\n",
    "        self.keithley.write(\"smua.reset()\")\n",
    "        \n",
    "    def set_source_function(self, function):\n",
    "        self.keithley.write(f\"smua.source.func=smua.{function}\")\n",
    "        \n",
    "    def set_source_voltage(self, voltage):\n",
    "        self.keithley.write(f\"smua.source.levelv={voltage}\")\n",
    "        \n",
    "    def set_source_voltage_range(self, voltage_range):\n",
    "        self.keithley.write(f\"smua.source.rangev={voltage_range}\")\n",
    "        \n",
    "    def set_source_current_limit(self, current_limit):\n",
    "        self.keithley.write(f\"smua.source.limiti={current_limit}\")\n",
    "        \n",
    "    def set_measurement_current_range(self, current_range):\n",
    "        self.keithley.write(f\"smua.measure.rangei={current_range}\")\n",
    "        \n",
    "    def enable_source_output(self):\n",
    "        self.keithley.write(\"smua.source.output=smua.OUTPUT_ON\")\n",
    "        \n",
    "    def disable_source_output(self):\n",
    "        self.keithley.write(\"smua.source.output=smua.OUTPUT_OFF\")\n",
    "        \n",
    "    def measure_current(self):\n",
    "        return self.keithley.ask(\"smua.measure.i()\")\n"
   ]
  },
  {
   "cell_type": "code",
   "execution_count": 7,
   "id": "8790d86d",
   "metadata": {},
   "outputs": [
    {
     "ename": "ValueError",
     "evalue": "Could not locate a VISA implementation. Install either the IVI binary or pyvisa-py.",
     "output_type": "error",
     "traceback": [
      "\u001b[0;31m---------------------------------------------------------------------------\u001b[0m",
      "\u001b[0;31mValueError\u001b[0m                                Traceback (most recent call last)",
      "\u001b[0;32m/var/folders/ch/8vzbvl9d4j1g2q_r2r4f383m0000gn/T/ipykernel_68362/126932068.py\u001b[0m in \u001b[0;36m<module>\u001b[0;34m\u001b[0m\n\u001b[0;32m----> 1\u001b[0;31m \u001b[0mk2612B\u001b[0m \u001b[0;34m=\u001b[0m \u001b[0mKeithley2612BController\u001b[0m\u001b[0;34m(\u001b[0m\u001b[0;34m\"169.254.000.001\"\u001b[0m\u001b[0;34m)\u001b[0m\u001b[0;34m\u001b[0m\u001b[0;34m\u001b[0m\u001b[0m\n\u001b[0m\u001b[1;32m      2\u001b[0m \u001b[0mk2612B\u001b[0m\u001b[0;34m.\u001b[0m\u001b[0mreset\u001b[0m\u001b[0;34m(\u001b[0m\u001b[0;34m)\u001b[0m\u001b[0;34m\u001b[0m\u001b[0;34m\u001b[0m\u001b[0m\n\u001b[1;32m      3\u001b[0m \u001b[0mk2612B\u001b[0m\u001b[0;34m.\u001b[0m\u001b[0mset_source_function\u001b[0m\u001b[0;34m(\u001b[0m\u001b[0;34m\"OUTPUT_DCVOLTS\"\u001b[0m\u001b[0;34m)\u001b[0m\u001b[0;34m\u001b[0m\u001b[0;34m\u001b[0m\u001b[0m\n\u001b[1;32m      4\u001b[0m \u001b[0mk2612B\u001b[0m\u001b[0;34m.\u001b[0m\u001b[0mset_source_voltage_range\u001b[0m\u001b[0;34m(\u001b[0m\u001b[0;36m20\u001b[0m\u001b[0;34m)\u001b[0m\u001b[0;34m\u001b[0m\u001b[0;34m\u001b[0m\u001b[0m\n\u001b[1;32m      5\u001b[0m \u001b[0mk2612B\u001b[0m\u001b[0;34m.\u001b[0m\u001b[0mset_source_voltage\u001b[0m\u001b[0;34m(\u001b[0m\u001b[0;36m5\u001b[0m\u001b[0;34m)\u001b[0m\u001b[0;34m\u001b[0m\u001b[0;34m\u001b[0m\u001b[0m\n",
      "\u001b[0;32m/var/folders/ch/8vzbvl9d4j1g2q_r2r4f383m0000gn/T/ipykernel_68362/1090588611.py\u001b[0m in \u001b[0;36m__init__\u001b[0;34m(self, ip_address)\u001b[0m\n\u001b[1;32m      3\u001b[0m \u001b[0;32mclass\u001b[0m \u001b[0mKeithley2612BController\u001b[0m\u001b[0;34m:\u001b[0m\u001b[0;34m\u001b[0m\u001b[0;34m\u001b[0m\u001b[0m\n\u001b[1;32m      4\u001b[0m     \u001b[0;32mdef\u001b[0m \u001b[0m__init__\u001b[0m\u001b[0;34m(\u001b[0m\u001b[0mself\u001b[0m\u001b[0;34m,\u001b[0m \u001b[0mip_address\u001b[0m\u001b[0;34m)\u001b[0m\u001b[0;34m:\u001b[0m\u001b[0;34m\u001b[0m\u001b[0;34m\u001b[0m\u001b[0m\n\u001b[0;32m----> 5\u001b[0;31m         \u001b[0mself\u001b[0m\u001b[0;34m.\u001b[0m\u001b[0mkeithley\u001b[0m \u001b[0;34m=\u001b[0m \u001b[0mvisa\u001b[0m\u001b[0;34m.\u001b[0m\u001b[0mResourceManager\u001b[0m\u001b[0;34m(\u001b[0m\u001b[0;34m)\u001b[0m\u001b[0;34m.\u001b[0m\u001b[0mopen_resource\u001b[0m\u001b[0;34m(\u001b[0m\u001b[0;34mf\"TCPIP0::{ip_address}::5025::SOCKET\"\u001b[0m\u001b[0;34m)\u001b[0m\u001b[0;34m\u001b[0m\u001b[0;34m\u001b[0m\u001b[0m\n\u001b[0m\u001b[1;32m      6\u001b[0m \u001b[0;34m\u001b[0m\u001b[0m\n\u001b[1;32m      7\u001b[0m     \u001b[0;32mdef\u001b[0m \u001b[0mreset\u001b[0m\u001b[0;34m(\u001b[0m\u001b[0mself\u001b[0m\u001b[0;34m)\u001b[0m\u001b[0;34m:\u001b[0m\u001b[0;34m\u001b[0m\u001b[0;34m\u001b[0m\u001b[0m\n",
      "\u001b[0;32m~/opt/anaconda3/lib/python3.9/site-packages/pyvisa/highlevel.py\u001b[0m in \u001b[0;36m__new__\u001b[0;34m(cls, visa_library)\u001b[0m\n\u001b[1;32m   2990\u001b[0m         \"\"\"\n\u001b[1;32m   2991\u001b[0m         \u001b[0;32mif\u001b[0m \u001b[0;32mnot\u001b[0m \u001b[0misinstance\u001b[0m\u001b[0;34m(\u001b[0m\u001b[0mvisa_library\u001b[0m\u001b[0;34m,\u001b[0m \u001b[0mVisaLibraryBase\u001b[0m\u001b[0;34m)\u001b[0m\u001b[0;34m:\u001b[0m\u001b[0;34m\u001b[0m\u001b[0;34m\u001b[0m\u001b[0m\n\u001b[0;32m-> 2992\u001b[0;31m             \u001b[0mvisa_library\u001b[0m \u001b[0;34m=\u001b[0m \u001b[0mopen_visa_library\u001b[0m\u001b[0;34m(\u001b[0m\u001b[0mvisa_library\u001b[0m\u001b[0;34m)\u001b[0m\u001b[0;34m\u001b[0m\u001b[0;34m\u001b[0m\u001b[0m\n\u001b[0m\u001b[1;32m   2993\u001b[0m \u001b[0;34m\u001b[0m\u001b[0m\n\u001b[1;32m   2994\u001b[0m         \u001b[0;32mif\u001b[0m \u001b[0mvisa_library\u001b[0m\u001b[0;34m.\u001b[0m\u001b[0mresource_manager\u001b[0m \u001b[0;32mis\u001b[0m \u001b[0;32mnot\u001b[0m \u001b[0;32mNone\u001b[0m\u001b[0;34m:\u001b[0m\u001b[0;34m\u001b[0m\u001b[0;34m\u001b[0m\u001b[0m\n",
      "\u001b[0;32m~/opt/anaconda3/lib/python3.9/site-packages/pyvisa/highlevel.py\u001b[0m in \u001b[0;36mopen_visa_library\u001b[0;34m(specification)\u001b[0m\n\u001b[1;32m   2897\u001b[0m             \u001b[0mwrapper\u001b[0m \u001b[0;34m=\u001b[0m \u001b[0;34m\"ivi\"\u001b[0m\u001b[0;34m\u001b[0m\u001b[0;34m\u001b[0m\u001b[0m\n\u001b[1;32m   2898\u001b[0m         \u001b[0;32melse\u001b[0m\u001b[0;34m:\u001b[0m\u001b[0;34m\u001b[0m\u001b[0;34m\u001b[0m\u001b[0m\n\u001b[0;32m-> 2899\u001b[0;31m             \u001b[0mwrapper\u001b[0m \u001b[0;34m=\u001b[0m \u001b[0m_get_default_wrapper\u001b[0m\u001b[0;34m(\u001b[0m\u001b[0;34m)\u001b[0m\u001b[0;34m\u001b[0m\u001b[0;34m\u001b[0m\u001b[0m\n\u001b[0m\u001b[1;32m   2900\u001b[0m \u001b[0;34m\u001b[0m\u001b[0m\n\u001b[1;32m   2901\u001b[0m     \u001b[0mcls\u001b[0m \u001b[0;34m=\u001b[0m \u001b[0mget_wrapper_class\u001b[0m\u001b[0;34m(\u001b[0m\u001b[0mwrapper\u001b[0m\u001b[0;34m)\u001b[0m\u001b[0;34m\u001b[0m\u001b[0;34m\u001b[0m\u001b[0m\n",
      "\u001b[0;32m~/opt/anaconda3/lib/python3.9/site-packages/pyvisa/highlevel.py\u001b[0m in \u001b[0;36m_get_default_wrapper\u001b[0;34m()\u001b[0m\n\u001b[1;32m   2856\u001b[0m     \u001b[0;32mexcept\u001b[0m \u001b[0mValueError\u001b[0m\u001b[0;34m:\u001b[0m\u001b[0;34m\u001b[0m\u001b[0;34m\u001b[0m\u001b[0m\n\u001b[1;32m   2857\u001b[0m         \u001b[0mlogger\u001b[0m\u001b[0;34m.\u001b[0m\u001b[0mdebug\u001b[0m\u001b[0;34m(\u001b[0m\u001b[0;34m\"Did not find pyvisa-py package\"\u001b[0m\u001b[0;34m)\u001b[0m\u001b[0;34m\u001b[0m\u001b[0;34m\u001b[0m\u001b[0m\n\u001b[0;32m-> 2858\u001b[0;31m     raise ValueError(\n\u001b[0m\u001b[1;32m   2859\u001b[0m         \u001b[0;34m\"Could not locate a VISA implementation. Install either the IVI binary or pyvisa-py.\"\u001b[0m\u001b[0;34m\u001b[0m\u001b[0;34m\u001b[0m\u001b[0m\n\u001b[1;32m   2860\u001b[0m     )\n",
      "\u001b[0;31mValueError\u001b[0m: Could not locate a VISA implementation. Install either the IVI binary or pyvisa-py."
     ]
    }
   ],
   "source": [
    "k2612B = Keithley2612BController(\"169.254.000.001\")\n",
    "k2612B.reset()\n",
    "k2612B.set_source_function(\"OUTPUT_DCVOLTS\")\n",
    "k2612B.set_source_voltage_range(20)\n",
    "k2612B.set_source_voltage(5)\n",
    "k2612B.set_source_current_limit(10e-3)\n",
    "k2612B.set_measurement_current_range(10e-3)\n",
    "k2612B.enable_source_output()\n",
    "current = k2612B.measure_current()\n",
    "k2612B.disable_source_output()\n",
    "k2612B.reset()\n"
   ]
  },
  {
   "cell_type": "code",
   "execution_count": null,
   "id": "81c4f2f1",
   "metadata": {},
   "outputs": [],
   "source": []
  }
 ],
 "metadata": {
  "kernelspec": {
   "display_name": "Python 3 (ipykernel)",
   "language": "python",
   "name": "python3"
  },
  "language_info": {
   "codemirror_mode": {
    "name": "ipython",
    "version": 3
   },
   "file_extension": ".py",
   "mimetype": "text/x-python",
   "name": "python",
   "nbconvert_exporter": "python",
   "pygments_lexer": "ipython3",
   "version": "3.10.6"
  }
 },
 "nbformat": 4,
 "nbformat_minor": 5
}
